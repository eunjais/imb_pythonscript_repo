{
 "cells": [
  {
   "cell_type": "code",
   "execution_count": 1,
   "metadata": {},
   "outputs": [
    {
     "name": "stdout",
     "output_type": "stream",
     "text": [
      "1 2\n"
     ]
    }
   ],
   "source": [
    "#Variables. Python is a case-sensitive language\n",
    "\n",
    "a_variable= 1\n",
    "\n",
    "A_variable=2\n",
    "\n",
    "print(a_variable, A_variable)"
   ]
  },
  {
   "cell_type": "code",
   "execution_count": 3,
   "metadata": {},
   "outputs": [
    {
     "name": "stdout",
     "output_type": "stream",
     "text": [
      "4\n"
     ]
    }
   ],
   "source": [
    "#In Python more than one variable can be assigned at the same time\n",
    "\n",
    "a, b, c= 2, 4, 5\n",
    "\n",
    "print(b)"
   ]
  },
  {
   "cell_type": "code",
   "execution_count": 65,
   "metadata": {},
   "outputs": [
    {
     "data": {
      "text/plain": [
       "int"
      ]
     },
     "execution_count": 65,
     "metadata": {},
     "output_type": "execute_result"
    }
   ],
   "source": [
    "#types. How to check a variable type\n",
    "\n",
    "number=3\n",
    "\n",
    "type(number)"
   ]
  },
  {
   "cell_type": "code",
   "execution_count": 66,
   "metadata": {},
   "outputs": [
    {
     "data": {
      "text/plain": [
       "int"
      ]
     },
     "execution_count": 66,
     "metadata": {},
     "output_type": "execute_result"
    }
   ],
   "source": [
    "#the type is linked to the object. \n",
    "#if we use function float without rewriting the variable\n",
    "#the output of type(number) is still an integer\n",
    "\n",
    "float(number)\n",
    "type(number)"
   ]
  },
  {
   "cell_type": "code",
   "execution_count": 67,
   "metadata": {},
   "outputs": [
    {
     "data": {
      "text/plain": [
       "float"
      ]
     },
     "execution_count": 67,
     "metadata": {},
     "output_type": "execute_result"
    }
   ],
   "source": [
    "#Rewrite variable number, to make it a float\n",
    "\n",
    "number=float(number)\n",
    "type(number)"
   ]
  },
  {
   "cell_type": "code",
   "execution_count": 68,
   "metadata": {},
   "outputs": [
    {
     "ename": "ValueError",
     "evalue": "invalid literal for int() with base 10: 'Hello, World!'",
     "output_type": "error",
     "traceback": [
      "\u001b[1;31m---------------------------------------------------------------------------\u001b[0m",
      "\u001b[1;31mValueError\u001b[0m                                Traceback (most recent call last)",
      "\u001b[1;32m<ipython-input-68-543149e09d45>\u001b[0m in \u001b[0;36m<module>\u001b[1;34m\u001b[0m\n\u001b[0;32m      2\u001b[0m \u001b[1;33m\u001b[0m\u001b[0m\n\u001b[0;32m      3\u001b[0m \u001b[0mstring\u001b[0m\u001b[1;33m=\u001b[0m\u001b[1;34m\"Hello, World!\"\u001b[0m\u001b[1;33m\u001b[0m\u001b[1;33m\u001b[0m\u001b[0m\n\u001b[1;32m----> 4\u001b[1;33m \u001b[0mint\u001b[0m\u001b[1;33m(\u001b[0m\u001b[0mstring\u001b[0m\u001b[1;33m)\u001b[0m\u001b[1;33m\u001b[0m\u001b[1;33m\u001b[0m\u001b[0m\n\u001b[0m",
      "\u001b[1;31mValueError\u001b[0m: invalid literal for int() with base 10: 'Hello, World!'"
     ]
    }
   ],
   "source": [
    "#Invalid type casting\n",
    "\n",
    "string=\"Hello, World!\"\n",
    "int(string)"
   ]
  },
  {
   "cell_type": "code",
   "execution_count": 8,
   "metadata": {},
   "outputs": [
    {
     "data": {
      "text/plain": [
       "2"
      ]
     },
     "execution_count": 8,
     "metadata": {},
     "output_type": "execute_result"
    }
   ],
   "source": [
    "#Valid type casting\n",
    "string_number=\"2\"\n",
    "int(string_number)"
   ]
  },
  {
   "cell_type": "code",
   "execution_count": 70,
   "metadata": {},
   "outputs": [
    {
     "name": "stdout",
     "output_type": "stream",
     "text": [
      "12+10= 22\n",
      "12-10= 2\n",
      "12x10= 120\n",
      "12/10= 1.2\n",
      "12//10= 1\n",
      "12%10= 2\n"
     ]
    }
   ],
   "source": [
    "#Arithmetical operations\n",
    "Addition=12+10\n",
    "Subtraction= 12-10\n",
    "Multiplication= 12*10\n",
    "Division=12/10\n",
    "IntegerDivision=12//10\n",
    "Reminder=12%10\n",
    "\n",
    "print(\"12+10=\",Addition)\n",
    "print(\"12-10=\",Subtraction)\n",
    "print(\"12x10=\",Multiplication)\n",
    "print(\"12/10=\",Division)\n",
    "print(\"12//10=\",IntegerDivision)\n",
    "print(\"12%10=\",Reminder)"
   ]
  },
  {
   "cell_type": "code",
   "execution_count": 30,
   "metadata": {},
   "outputs": [
    {
     "name": "stdout",
     "output_type": "stream",
     "text": [
      "8==8 True\n",
      "3==8 False\n",
      "8!=8 False\n",
      "3!=8 True\n",
      "3<5 True\n",
      "5<3False\n"
     ]
    }
   ],
   "source": [
    "# Comparison Operations\n",
    "\n",
    "string1=\"8==8 \"+ str(8==8) + \"\\n3==8 \" + str(3==8) + \"\\n8!=8 \"+ str(8!=8) \n",
    "string2=\"\\n3!=8 \" + str(3!=8) + \"\\n3<5 \" + str(3<5) + \"\\n5<3\" + str(5<3)\n",
    "\n",
    "# \\n prints the string in a new line\n",
    "# + concatenates two strings\n",
    "\n",
    "print(string1+string2)\n"
   ]
  },
  {
   "cell_type": "code",
   "execution_count": 71,
   "metadata": {},
   "outputs": [
    {
     "name": "stdout",
     "output_type": "stream",
     "text": [
      "A[7]: B\n",
      "A[-6]: B\n",
      "A[3:9]: hon Ba\n",
      "len(A): 13\n",
      "Python Basics lesson\n",
      "3*\"26\": 262626\n",
      "3*26: 78\n"
     ]
    }
   ],
   "source": [
    "# String Operations\n",
    "\n",
    "#Indexing and slicing\n",
    "\n",
    "A=\"Python Basics\"\n",
    "print(\"A[7]:\", A[7])\n",
    "print(\"A[-6]:\",A[-6])\n",
    "print(\"A[3:9]:\", A[3:9])\n",
    "print(\"len(A):\", len(A))\n",
    "\n",
    "#How to concatenate strings\n",
    "\n",
    "B=\" lesson\"\n",
    "print(A+B)\n",
    "\n",
    "#How to replicate strings\n",
    "\n",
    "C=\"26\"\n",
    "C_2=26\n",
    "\n",
    "print('3*\"26\":', 3*C)\n",
    "print(\"3*26:\", 3*C_2)"
   ]
  },
  {
   "cell_type": "code",
   "execution_count": 73,
   "metadata": {},
   "outputs": [
    {
     "name": "stdout",
     "output_type": "stream",
     "text": [
      "Insert your name: Martina\n",
      "Hello!\n",
      "How are you?\n"
     ]
    }
   ],
   "source": [
    "#Conditional statements\n",
    "\n",
    "#Example 1\n",
    "\n",
    "name=input(\"Insert your name: \")\n",
    "\n",
    "print(\"Hello!\")\n",
    "\n",
    "if name==\"Antonio\":\n",
    "    print(\"it's Antonio\")\n",
    "\n",
    "print(\"How are you?\")"
   ]
  },
  {
   "cell_type": "code",
   "execution_count": 79,
   "metadata": {},
   "outputs": [
    {
     "name": "stdout",
     "output_type": "stream",
     "text": [
      "insert a number: 9\n",
      "a = 9\n",
      "a is positive\n",
      "This will be printed in any case\n"
     ]
    }
   ],
   "source": [
    "#Conditional statements\n",
    "\n",
    "#Example 2\n",
    "\n",
    "a=int(input(\"insert a number: \"))\n",
    "print(\"a =\",a)\n",
    "\n",
    "\n",
    "if a>0:\n",
    "    print(\"a is positive\")\n",
    "elif a<0:\n",
    "    print(\"a is negative\")\n",
    "else:\n",
    "    print(\"a is zero\")\n",
    "\n",
    "print(\"This will be printed in any case\") #because it's not indented\n"
   ]
  },
  {
   "cell_type": "code",
   "execution_count": 80,
   "metadata": {},
   "outputs": [
    {
     "name": "stdout",
     "output_type": "stream",
     "text": [
      "Red\n",
      "Blue\n",
      "Yellow\n"
     ]
    }
   ],
   "source": [
    "#For loops \n",
    "\n",
    "L=[\"Red\", \"Blue\", \"Yellow\"]\n",
    "\n",
    "N=len(L) #creates a sequence N=[0,..,len(L)-1]\n",
    "\n",
    "for i in range(N): #for each element in the sequence [0,1,2]\n",
    "    print(L[i])"
   ]
  },
  {
   "cell_type": "code",
   "execution_count": 56,
   "metadata": {},
   "outputs": [
    {
     "name": "stdout",
     "output_type": "stream",
     "text": [
      "1\n",
      "0\n",
      "6\n",
      "8\n",
      "4\n"
     ]
    }
   ],
   "source": [
    "#While loops\n",
    "\n",
    "L=[1,0,6,8,4,-3,7,5,-1]\n",
    "\n",
    "i=0 \n",
    "\n",
    "while (L[i]>=0):  #starting from 0, prints the elements of L, until the first negative number\n",
    "    print(L[i])\n",
    "    i=i+1"
   ]
  },
  {
   "cell_type": "code",
   "execution_count": 58,
   "metadata": {},
   "outputs": [
    {
     "name": "stdout",
     "output_type": "stream",
     "text": [
      "Help on function max_function in module __main__:\n",
      "\n",
      "max_function(a, b)\n",
      "    this function computes the maximum between two numbers\n",
      "\n",
      "The maximum between 5 and 7 is:  7\n",
      "The maximum between 5,6 and 7 is:  7\n",
      "The maximum between \"A\" and \"B\" is:  B\n"
     ]
    }
   ],
   "source": [
    "#Functions\n",
    "\n",
    "def max_function(a,b):\n",
    "    \"this function computes the maximum between two numbers\"\n",
    "    \n",
    "    if a>b:\n",
    "        Max=a\n",
    "    else:\n",
    "        Max=b\n",
    "    \n",
    "    return Max\n",
    "\n",
    "help(max_function)\n",
    "\n",
    "print(\"The maximum between 5 and 7 is: \", max_function(5,7))\n",
    "print(\"The maximum between 5, 6 and 7 is: \", max_function(5,max_function(6,7)))\n",
    "print('The maximum between \"A\" and \\\"B\" is: ', max_function(\"A\",\"B\"))"
   ]
  },
  {
   "cell_type": "code",
   "execution_count": 81,
   "metadata": {},
   "outputs": [
    {
     "name": "stdout",
     "output_type": "stream",
     "text": [
      "Applying function sorted(), List doesn't change:  [2, 6, 4, 1, 10, 8, -9, 3]\n",
      "Applying method .sort(), List changes [-9, 1, 2, 3, 4, 6, 8, 10]\n"
     ]
    }
   ],
   "source": [
    "#Methods and functions\n",
    "\n",
    "#Methods interact with the data in the object\n",
    "#functions take an inout and produce a NEW output\n",
    "\n",
    "List=[2,6,4,1,10,8,-9,3]\n",
    "\n",
    "#function sorted\n",
    "sorted(List) \n",
    "print(\"Applying function sorted(), List doesn't change: \",List)\n",
    "#to sort List and save the sorted list in List: List=sorted(List) or\n",
    "\n",
    "#Methos .sort()\n",
    "List.sort()\n",
    "print(\"Applying method .sort(), List changes\", List)"
   ]
  }
 ],
 "metadata": {
  "kernelspec": {
   "display_name": "Python 3",
   "language": "python",
   "name": "python3"
  },
  "language_info": {
   "codemirror_mode": {
    "name": "ipython",
    "version": 3
   },
   "file_extension": ".py",
   "mimetype": "text/x-python",
   "name": "python",
   "nbconvert_exporter": "python",
   "pygments_lexer": "ipython3",
   "version": "3.7.3"
  }
 },
 "nbformat": 4,
 "nbformat_minor": 2
}
