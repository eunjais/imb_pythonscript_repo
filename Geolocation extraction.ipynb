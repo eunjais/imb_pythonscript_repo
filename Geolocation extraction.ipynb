{
 "cells": [
  {
   "cell_type": "code",
   "execution_count": null,
   "id": "a750eb86",
   "metadata": {},
   "outputs": [],
   "source": [
    "# using pygeoIP for geolocation extraction \n",
    "# GEOIP was discontinued in 2019; GEOIP2 with licensing is required to utilize this code\n",
    "\n",
    "import pygeoip\n",
    "myGEOIP = pygeoip.GEOIP('GEOIPDataSet.dat')\n",
    "myGeoIP.country_name_by_addr(‘<IP Address>’)"
   ]
  },
  {
   "cell_type": "code",
   "execution_count": null,
   "id": "5ceb7017",
   "metadata": {},
   "outputs": [],
   "source": [
    "# looking up country using commands\n",
    "myGeoIP = pygeoip.GeoIP(‘GeoIPDataSet.dat’)\n",
    "\n",
    "#Looking up city \n",
    "myGeoIP = pygeoip.GeoIP(‘GeoIPCity.dat’)\n",
    "myGeoIP.record_by_addr(‘<IP Address>’)"
   ]
  },
  {
   "cell_type": "code",
   "execution_count": null,
   "id": "2733a5e5",
   "metadata": {},
   "outputs": [],
   "source": [
    "# further reference PyPI for repo on packages interfacing with other platforms"
   ]
  }
 ],
 "metadata": {
  "kernelspec": {
   "display_name": "Python 3 (ipykernel)",
   "language": "python",
   "name": "python3"
  },
  "language_info": {
   "codemirror_mode": {
    "name": "ipython",
    "version": 3
   },
   "file_extension": ".py",
   "mimetype": "text/x-python",
   "name": "python",
   "nbconvert_exporter": "python",
   "pygments_lexer": "ipython3",
   "version": "3.7.13"
  }
 },
 "nbformat": 4,
 "nbformat_minor": 5
}
